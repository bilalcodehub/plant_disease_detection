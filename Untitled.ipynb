{
 "cells": [
  {
   "cell_type": "code",
   "execution_count": 1,
   "id": "eabb08be-cf9e-4c2e-9eb4-8347eedd23cd",
   "metadata": {},
   "outputs": [],
   "source": [
    "import timm"
   ]
  },
  {
   "cell_type": "code",
   "execution_count": 28,
   "id": "229c0f93-23bf-408f-84bc-0f07b255f757",
   "metadata": {},
   "outputs": [],
   "source": [
    "models = timm.list_models('*small*')[:10]"
   ]
  },
  {
   "cell_type": "code",
   "execution_count": 29,
   "id": "f5270462-3cc9-47ea-bbb5-9802855784f9",
   "metadata": {},
   "outputs": [
    {
     "data": {
      "text/plain": [
       "['coat_lite_small',\n",
       " 'convit_small',\n",
       " 'convnext_small',\n",
       " 'convnext_small_384_in22ft1k',\n",
       " 'convnext_small_in22ft1k',\n",
       " 'convnext_small_in22k',\n",
       " 'crossvit_small_240',\n",
       " 'deit_small_distilled_patch16_224',\n",
       " 'deit_small_patch16_224',\n",
       " 'hrnet_w18_small']"
      ]
     },
     "execution_count": 29,
     "metadata": {},
     "output_type": "execute_result"
    }
   ],
   "source": [
    "models"
   ]
  },
  {
   "cell_type": "code",
   "execution_count": null,
   "id": "ca06218e-4cb8-4811-b311-2926270a3b92",
   "metadata": {},
   "outputs": [],
   "source": []
  }
 ],
 "metadata": {
  "kernelspec": {
   "display_name": "Python 3 (ipykernel)",
   "language": "python",
   "name": "python3"
  },
  "language_info": {
   "codemirror_mode": {
    "name": "ipython",
    "version": 3
   },
   "file_extension": ".py",
   "mimetype": "text/x-python",
   "name": "python",
   "nbconvert_exporter": "python",
   "pygments_lexer": "ipython3",
   "version": "3.9.13"
  }
 },
 "nbformat": 4,
 "nbformat_minor": 5
}
