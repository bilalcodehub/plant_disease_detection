{
 "cells": [
  {
   "cell_type": "code",
   "execution_count": 1,
   "id": "41ce3918-d4a4-402c-97b6-6d3d1065ac39",
   "metadata": {},
   "outputs": [],
   "source": [
    "#|default_exp fine_tune"
   ]
  },
  {
   "cell_type": "code",
   "execution_count": 2,
   "id": "1ad40ca0-9d1b-4707-8632-7b4db8e7a1e3",
   "metadata": {},
   "outputs": [],
   "source": [
    "#|export\n",
    "import timm\n",
    "import wandb\n",
    "import argparse\n",
    "import torchvision\n",
    "from fastai.vision.all import *\n",
    "from fastai.callback.wandb import WandbCallback"
   ]
  },
  {
   "cell_type": "code",
   "execution_count": 3,
   "id": "dba25ad2-6dc7-4ef9-895e-dd806b21d5fc",
   "metadata": {},
   "outputs": [],
   "source": [
    "#|hide\n",
    "from nbdev.showdoc import *"
   ]
  },
  {
   "cell_type": "code",
   "execution_count": null,
   "id": "5020b611-8a33-4afb-b392-536fa1aa8b3d",
   "metadata": {},
   "outputs": [],
   "source": []
  },
  {
   "cell_type": "code",
   "execution_count": 4,
   "id": "f8e89794-c7ab-4725-b0bc-23d1c2f92a71",
   "metadata": {},
   "outputs": [],
   "source": [
    "#|export\n",
    "WANDB_PROJECT = 'paddy-ft'\n",
    "WANDB_ENTITY = 'bilalcodehub'"
   ]
  },
  {
   "cell_type": "code",
   "execution_count": 5,
   "id": "9a3e9eb0-87aa-4a41-bbc1-3ea25727b385",
   "metadata": {},
   "outputs": [],
   "source": [
    "#|export\n",
    "config_defaults = SimpleNamespace(\n",
    "    batch_size=32,\n",
    "    epochs=1,\n",
    "    num_experiments=1,\n",
    "    learning_rate=2e-3,\n",
    "    img_size=224,\n",
    "    resize_method=\"crop\",\n",
    "    model_name=\"resnet34\",\n",
    "    pool=\"concat\",\n",
    "    seed=42,\n",
    "    wandb_project=WANDB_PROJECT,\n",
    "    wandb_entity=WANDB_ENTITY,\n",
    "    split_func=\"default\",\n",
    ")   "
   ]
  },
  {
   "cell_type": "code",
   "execution_count": 6,
   "id": "f2eb9a0f-7305-4fae-b3cd-000d5652a34d",
   "metadata": {},
   "outputs": [],
   "source": [
    "#|export\n",
    "def parse_args():\n",
    "    parser = argparse.ArgumentParser()\n",
    "    parser.add_argument('--batch_size', type=int, default=config_defaults.batch_size)\n",
    "    parser.add_argument('--epochs', type=int, default=config_defaults.epochs)\n",
    "    parser.add_argument('--num_experiments', type=int, default=config_defaults.num_experiments)\n",
    "    parser.add_argument('--learning_rate', type=float, default=config_defaults.learning_rate)\n",
    "    parser.add_argument('--img_size', type=int, default=config_defaults.img_size)\n",
    "    parser.add_argument('--resize_method', type=str, default=config_defaults.resize_method)\n",
    "    parser.add_argument('--model_name', type=str, default=config_defaults.model_name)\n",
    "    parser.add_argument('--split_func', type=str, default=config_defaults.split_func)\n",
    "    parser.add_argument('--pool', type=str, default=config_defaults.pool)\n",
    "    parser.add_argument('--seed', type=int, default=config_defaults.seed)\n",
    "    parser.add_argument('--wandb_project', type=str, default=WANDB_PROJECT)\n",
    "    parser.add_argument('--wandb_entity', type=str, default=WANDB_ENTITY)\n",
    "    return parser.parse_args()"
   ]
  },
  {
   "cell_type": "code",
   "execution_count": 7,
   "id": "456a978f-68c2-4a57-905f-a2620659f8c9",
   "metadata": {},
   "outputs": [],
   "source": [
    "#|export\n",
    "def get_gpu_mem(device=0):\n",
    "    gpu_mem = torch.cuda.memory_stats_as_nested_dict(device=device)\n",
    "    return (gpu_mem[\"reserved_bytes\"][\"small_pool\"][\"peak\"] + gpu_mem[\"reserved_bytes\"][\"large_pool\"][\"peak\"])*1024**-3"
   ]
  },
  {
   "cell_type": "code",
   "execution_count": 8,
   "id": "b216c841-014f-45b2-974f-1a6be82c0af2",
   "metadata": {},
   "outputs": [],
   "source": [
    "#|export\n",
    "def get_dataset(batch_size, img_size, seed, method=\"crop\"):\n",
    "    path = Path.home()/'.fastai/data/paddy'\n",
    "    files = get_image_files(path/'train_images')\n",
    "    dls = ImageDataLoaders.from_folder(path, files, valid_pct=0.2,\n",
    "                                       seed=seed, bs=batch_size, item_tfms=Resize(img_size, method=method))\n",
    "    return dls, [error_rate, accuracy]"
   ]
  },
  {
   "cell_type": "code",
   "execution_count": 9,
   "id": "602fae61-3b8c-4602-a328-a044af7f5bcb",
   "metadata": {},
   "outputs": [],
   "source": [
    "#|export\n",
    "def train(config=config_defaults):\n",
    "    with wandb.init(project=config.wandb_project, group='timm', entity=config.wandb_entity, config=config):\n",
    "        config=wandb.config\n",
    "        dls, metrics = get_dataset(config.batch_size, config.img_size, config.seed, config.resize_method)\n",
    "        learn = vision_learner(dls, config.model_name, metrics=metrics, concat_pool=(config.pool==\"pool\"),\n",
    "                              cbs=WandbCallback(log=None, log_preds=False)).to_fp16()\n",
    "        ti=time.perf_counter()\n",
    "        learn.fine_tune(config.epochs, config.learning_rate)\n",
    "        wandb.summary['GPU_mem'] = get_gpu_mem(learn.dls.device)\n",
    "        wandb.summary['model_family'] = gconfig.model_name.split('_')[0]\n",
    "        wandb.summary['fit_time'] = ti.perf_counter()-ti\n",
    "        "
   ]
  },
  {
   "cell_type": "code",
   "execution_count": 20,
   "id": "059e0415-a448-4ba8-ba82-424e91e26356",
   "metadata": {},
   "outputs": [
    {
     "name": "stderr",
     "output_type": "stream",
     "text": [
      "usage: ipykernel_launcher.py [-h] [--batch_size BATCH_SIZE] [--epochs EPOCHS]\n",
      "                             [--num_experiments NUM_EXPERIMENTS]\n",
      "                             [--learning_rate LEARNING_RATE]\n",
      "                             [--img_size IMG_SIZE]\n",
      "                             [--resize_method RESIZE_METHOD]\n",
      "                             [--model_name MODEL_NAME]\n",
      "                             [--split_func SPLIT_FUNC] [--pool POOL]\n",
      "                             [--seed SEED] [--wandb_project WANDB_PROJECT]\n",
      "                             [--wandb_entity WANDB_ENTITY]\n",
      "ipykernel_launcher.py: error: unrecognized arguments: -f /home/bilal/.local/share/jupyter/runtime/kernel-00deb071-8000-4693-81de-ae91f05fbff7.json\n"
     ]
    },
    {
     "ename": "SystemExit",
     "evalue": "2",
     "output_type": "error",
     "traceback": [
      "An exception has occurred, use %tb to see the full traceback.\n",
      "\u001b[0;31mSystemExit\u001b[0m\u001b[0;31m:\u001b[0m 2\n"
     ]
    },
    {
     "name": "stderr",
     "output_type": "stream",
     "text": [
      "/home/bilal/mambaforge/lib/python3.9/site-packages/IPython/core/interactiveshell.py:3406: UserWarning: To exit: use 'exit', 'quit', or Ctrl-D.\n",
      "  warn(\"To exit: use 'exit', 'quit', or Ctrl-D.\", stacklevel=1)\n"
     ]
    }
   ],
   "source": [
    "#|export\n",
    "if __name__==\"__main__\":\n",
    "    args=parse_args()\n",
    "    train(config=args)"
   ]
  },
  {
   "cell_type": "code",
   "execution_count": 10,
   "id": "5af2c1d2-a779-4d82-b4f7-af8a34f7dff7",
   "metadata": {},
   "outputs": [
    {
     "ename": "FileNotFoundError",
     "evalue": "Could not find settings.ini",
     "output_type": "error",
     "traceback": [
      "\u001b[0;31m---------------------------------------------------------------------------\u001b[0m",
      "\u001b[0;31mFileNotFoundError\u001b[0m                         Traceback (most recent call last)",
      "Input \u001b[0;32mIn [10]\u001b[0m, in \u001b[0;36m<cell line: 3>\u001b[0;34m()\u001b[0m\n\u001b[1;32m      1\u001b[0m \u001b[38;5;66;03m#|hide\u001b[39;00m\n\u001b[1;32m      2\u001b[0m \u001b[38;5;28;01mfrom\u001b[39;00m \u001b[38;5;21;01mnbdev\u001b[39;00m\u001b[38;5;21;01m.\u001b[39;00m\u001b[38;5;21;01mexport\u001b[39;00m \u001b[38;5;28;01mimport\u001b[39;00m notebook2script\n\u001b[0;32m----> 3\u001b[0m \u001b[43mnotebook2script\u001b[49m\u001b[43m(\u001b[49m\u001b[43m)\u001b[49m\n",
      "File \u001b[0;32m~/mambaforge/lib/python3.9/site-packages/nbdev/export.py:435\u001b[0m, in \u001b[0;36mnotebook2script\u001b[0;34m(fname, silent, to_dict, bare)\u001b[0m\n\u001b[1;32m    433\u001b[0m \u001b[38;5;28;01mif\u001b[39;00m os\u001b[38;5;241m.\u001b[39menviron\u001b[38;5;241m.\u001b[39mget(\u001b[38;5;124m'\u001b[39m\u001b[38;5;124mIN_TEST\u001b[39m\u001b[38;5;124m'\u001b[39m,\u001b[38;5;241m0\u001b[39m): \u001b[38;5;28;01mreturn\u001b[39;00m  \u001b[38;5;66;03m# don't export if running tests\u001b[39;00m\n\u001b[1;32m    434\u001b[0m \u001b[38;5;28;01mif\u001b[39;00m fname \u001b[38;5;129;01mis\u001b[39;00m \u001b[38;5;28;01mNone\u001b[39;00m:\n\u001b[0;32m--> 435\u001b[0m     \u001b[43mreset_nbdev_module\u001b[49m\u001b[43m(\u001b[49m\u001b[43m)\u001b[49m\n\u001b[1;32m    436\u001b[0m     update_version()\n\u001b[1;32m    437\u001b[0m     update_baseurl()\n",
      "File \u001b[0;32m~/mambaforge/lib/python3.9/site-packages/nbdev/export.py:243\u001b[0m, in \u001b[0;36mreset_nbdev_module\u001b[0;34m()\u001b[0m\n\u001b[1;32m    241\u001b[0m \u001b[38;5;28;01mdef\u001b[39;00m \u001b[38;5;21mreset_nbdev_module\u001b[39m():\n\u001b[1;32m    242\u001b[0m     \u001b[38;5;124m\"\u001b[39m\u001b[38;5;124mCreate a skeleton for <code>_nbdev</code>\u001b[39m\u001b[38;5;124m\"\u001b[39m\n\u001b[0;32m--> 243\u001b[0m     fname \u001b[38;5;241m=\u001b[39m \u001b[43mget_config\u001b[49m\u001b[43m(\u001b[49m\u001b[43m)\u001b[49m\u001b[38;5;241m.\u001b[39mpath(\u001b[38;5;124m\"\u001b[39m\u001b[38;5;124mlib_path\u001b[39m\u001b[38;5;124m\"\u001b[39m)\u001b[38;5;241m/\u001b[39m\u001b[38;5;124m'\u001b[39m\u001b[38;5;124m_nbdev.py\u001b[39m\u001b[38;5;124m'\u001b[39m\n\u001b[1;32m    244\u001b[0m     fname\u001b[38;5;241m.\u001b[39mparent\u001b[38;5;241m.\u001b[39mmkdir(parents\u001b[38;5;241m=\u001b[39m\u001b[38;5;28;01mTrue\u001b[39;00m, exist_ok\u001b[38;5;241m=\u001b[39m\u001b[38;5;28;01mTrue\u001b[39;00m)\n\u001b[1;32m    245\u001b[0m     sep \u001b[38;5;241m=\u001b[39m \u001b[38;5;124m'\u001b[39m\u001b[38;5;130;01m\\n\u001b[39;00m\u001b[38;5;124m'\u001b[39m \u001b[38;5;241m*\u001b[39m (get_config()\u001b[38;5;241m.\u001b[39md\u001b[38;5;241m.\u001b[39mgetint(\u001b[38;5;124m'\u001b[39m\u001b[38;5;124mcell_spacing\u001b[39m\u001b[38;5;124m'\u001b[39m, \u001b[38;5;241m1\u001b[39m) \u001b[38;5;241m+\u001b[39m \u001b[38;5;241m1\u001b[39m)\n",
      "File \u001b[0;32m~/mambaforge/lib/python3.9/site-packages/nbdev/imports.py:29\u001b[0m, in \u001b[0;36mget_config\u001b[0;34m(cfg_name)\u001b[0m\n\u001b[1;32m     27\u001b[0m cfg_path \u001b[38;5;241m=\u001b[39m Path\u001b[38;5;241m.\u001b[39mcwd()\n\u001b[1;32m     28\u001b[0m \u001b[38;5;28;01mwhile\u001b[39;00m cfg_path \u001b[38;5;241m!=\u001b[39m cfg_path\u001b[38;5;241m.\u001b[39mparent \u001b[38;5;129;01mand\u001b[39;00m \u001b[38;5;129;01mnot\u001b[39;00m (cfg_path\u001b[38;5;241m/\u001b[39mcfg_name)\u001b[38;5;241m.\u001b[39mexists(): cfg_path \u001b[38;5;241m=\u001b[39m cfg_path\u001b[38;5;241m.\u001b[39mparent\n\u001b[0;32m---> 29\u001b[0m config \u001b[38;5;241m=\u001b[39m \u001b[43mConfig\u001b[49m\u001b[43m(\u001b[49m\u001b[43mcfg_path\u001b[49m\u001b[43m,\u001b[49m\u001b[43m \u001b[49m\u001b[43mcfg_name\u001b[49m\u001b[38;5;241;43m=\u001b[39;49m\u001b[43mcfg_name\u001b[49m\u001b[43m)\u001b[49m\n\u001b[1;32m     30\u001b[0m _add_new_defaults(config\u001b[38;5;241m.\u001b[39md, config\u001b[38;5;241m.\u001b[39mconfig_file,\n\u001b[1;32m     31\u001b[0m         host\u001b[38;5;241m=\u001b[39m\u001b[38;5;124m\"\u001b[39m\u001b[38;5;124mgithub\u001b[39m\u001b[38;5;124m\"\u001b[39m, doc_host\u001b[38;5;241m=\u001b[39m\u001b[38;5;124m\"\u001b[39m\u001b[38;5;124mhttps://\u001b[39m\u001b[38;5;132;01m%(user)s\u001b[39;00m\u001b[38;5;124m.github.io\u001b[39m\u001b[38;5;124m\"\u001b[39m, doc_baseurl\u001b[38;5;241m=\u001b[39m\u001b[38;5;124m\"\u001b[39m\u001b[38;5;124m/\u001b[39m\u001b[38;5;132;01m%(lib_name)s\u001b[39;00m\u001b[38;5;124m/\u001b[39m\u001b[38;5;124m\"\u001b[39m)\n\u001b[1;32m     32\u001b[0m \u001b[38;5;28;01mreturn\u001b[39;00m config\n",
      "File \u001b[0;32m~/mambaforge/lib/python3.9/site-packages/fastcore/foundation.py:260\u001b[0m, in \u001b[0;36mConfig.__init__\u001b[0;34m(self, cfg_path, cfg_name, create)\u001b[0m\n\u001b[1;32m    258\u001b[0m         cfg_path\u001b[38;5;241m.\u001b[39mmkdir(exist_ok\u001b[38;5;241m=\u001b[39m\u001b[38;5;28;01mTrue\u001b[39;00m, parents\u001b[38;5;241m=\u001b[39m\u001b[38;5;28;01mTrue\u001b[39;00m)\n\u001b[1;32m    259\u001b[0m         \u001b[38;5;28mself\u001b[39m\u001b[38;5;241m.\u001b[39msave()\n\u001b[0;32m--> 260\u001b[0m     \u001b[38;5;28;01melse\u001b[39;00m: \u001b[38;5;28;01mraise\u001b[39;00m \u001b[38;5;167;01mFileNotFoundError\u001b[39;00m(\u001b[38;5;124mf\u001b[39m\u001b[38;5;124m\"\u001b[39m\u001b[38;5;124mCould not find \u001b[39m\u001b[38;5;132;01m{\u001b[39;00mcfg_name\u001b[38;5;132;01m}\u001b[39;00m\u001b[38;5;124m\"\u001b[39m)\n\u001b[1;32m    261\u001b[0m \u001b[38;5;28mself\u001b[39m\u001b[38;5;241m.\u001b[39md \u001b[38;5;241m=\u001b[39m read_config_file(\u001b[38;5;28mself\u001b[39m\u001b[38;5;241m.\u001b[39mconfig_file)\n",
      "\u001b[0;31mFileNotFoundError\u001b[0m: Could not find settings.ini"
     ]
    }
   ],
   "source": [
    "#|hide\n",
    "from nbdev.export import notebook2script\n",
    "notebook2script()"
   ]
  },
  {
   "cell_type": "code",
   "execution_count": null,
   "id": "f35a89e9-1f6e-48e7-a19e-9b34fde0c89b",
   "metadata": {},
   "outputs": [],
   "source": []
  }
 ],
 "metadata": {
  "kernelspec": {
   "display_name": "Python 3 (ipykernel)",
   "language": "python",
   "name": "python3"
  },
  "language_info": {
   "codemirror_mode": {
    "name": "ipython",
    "version": 3
   },
   "file_extension": ".py",
   "mimetype": "text/x-python",
   "name": "python",
   "nbconvert_exporter": "python",
   "pygments_lexer": "ipython3",
   "version": "3.9.13"
  }
 },
 "nbformat": 4,
 "nbformat_minor": 5
}
