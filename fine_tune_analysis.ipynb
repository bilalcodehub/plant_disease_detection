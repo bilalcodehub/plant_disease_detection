{
 "cells": [
  {
   "cell_type": "code",
   "execution_count": 1,
   "id": "6c7eb6bc-0626-4ea5-a6d7-3095c37b88e2",
   "metadata": {},
   "outputs": [],
   "source": [
    "import wandb,os\n",
    "from fastcore.all import *\n",
    "import pandas as pd\n",
    "from fastai.vision.all import *\n",
    "import plotly.express as px"
   ]
  },
  {
   "cell_type": "code",
   "execution_count": 2,
   "id": "76cdcc5e-d9fe-4cf4-98e8-b491a3f1db59",
   "metadata": {},
   "outputs": [],
   "source": [
    "os.environ['WANDB_API_KEY'] = 'ac83272eb92a7df88c296f179996d615edda0dd3'"
   ]
  },
  {
   "cell_type": "code",
   "execution_count": 5,
   "id": "1327e365-6263-48a7-aa7e-92ce3db55390",
   "metadata": {},
   "outputs": [
    {
     "ename": "AttributeError",
     "evalue": "'Runs' object has no attribute 'summary'",
     "output_type": "error",
     "traceback": [
      "\u001b[0;31m---------------------------------------------------------------------------\u001b[0m",
      "\u001b[0;31mAttributeError\u001b[0m                            Traceback (most recent call last)",
      "Input \u001b[0;32mIn [5]\u001b[0m, in \u001b[0;36m<cell line: 8>\u001b[0;34m()\u001b[0m\n\u001b[1;32m      3\u001b[0m sweep_ids \u001b[38;5;241m=\u001b[39m [\n\u001b[1;32m      4\u001b[0m     \u001b[38;5;124m'\u001b[39m\u001b[38;5;124mpaddy-ft/sweeps/0mxkdioz\u001b[39m\u001b[38;5;124m'\u001b[39m,\n\u001b[1;32m      5\u001b[0m ]\n\u001b[1;32m      7\u001b[0m sweeps \u001b[38;5;241m=\u001b[39m concat(api\u001b[38;5;241m.\u001b[39msweep(o)\u001b[38;5;241m.\u001b[39mruns \u001b[38;5;28;01mfor\u001b[39;00m o \u001b[38;5;129;01min\u001b[39;00m sweep_ids)\n\u001b[0;32m----> 8\u001b[0m summs \u001b[38;5;241m=\u001b[39m [{\u001b[38;5;241m*\u001b[39m\u001b[38;5;241m*\u001b[39mr\u001b[38;5;241m.\u001b[39msummary, \u001b[38;5;124m'\u001b[39m\u001b[38;5;124mmodel_name\u001b[39m\u001b[38;5;124m'\u001b[39m:r\u001b[38;5;241m.\u001b[39mconfig[\u001b[38;5;124m'\u001b[39m\u001b[38;5;124mmodel_name\u001b[39m\u001b[38;5;124m'\u001b[39m]} \u001b[38;5;28;01mfor\u001b[39;00m r \u001b[38;5;129;01min\u001b[39;00m sweeps]\n",
      "Input \u001b[0;32mIn [5]\u001b[0m, in \u001b[0;36m<listcomp>\u001b[0;34m(.0)\u001b[0m\n\u001b[1;32m      3\u001b[0m sweep_ids \u001b[38;5;241m=\u001b[39m [\n\u001b[1;32m      4\u001b[0m     \u001b[38;5;124m'\u001b[39m\u001b[38;5;124mpaddy-ft/sweeps/0mxkdioz\u001b[39m\u001b[38;5;124m'\u001b[39m,\n\u001b[1;32m      5\u001b[0m ]\n\u001b[1;32m      7\u001b[0m sweeps \u001b[38;5;241m=\u001b[39m concat(api\u001b[38;5;241m.\u001b[39msweep(o)\u001b[38;5;241m.\u001b[39mruns \u001b[38;5;28;01mfor\u001b[39;00m o \u001b[38;5;129;01min\u001b[39;00m sweep_ids)\n\u001b[0;32m----> 8\u001b[0m summs \u001b[38;5;241m=\u001b[39m [{\u001b[38;5;241m*\u001b[39m\u001b[38;5;241m*\u001b[39m\u001b[43mr\u001b[49m\u001b[38;5;241;43m.\u001b[39;49m\u001b[43msummary\u001b[49m, \u001b[38;5;124m'\u001b[39m\u001b[38;5;124mmodel_name\u001b[39m\u001b[38;5;124m'\u001b[39m:r\u001b[38;5;241m.\u001b[39mconfig[\u001b[38;5;124m'\u001b[39m\u001b[38;5;124mmodel_name\u001b[39m\u001b[38;5;124m'\u001b[39m]} \u001b[38;5;28;01mfor\u001b[39;00m r \u001b[38;5;129;01min\u001b[39;00m sweeps]\n",
      "\u001b[0;31mAttributeError\u001b[0m: 'Runs' object has no attribute 'summary'"
     ]
    }
   ],
   "source": [
    "api = wandb.Api()\n",
    "\n",
    "sweep_ids = [\n",
    "    'paddy-ft/sweeps/0mxkdioz',\n",
    "]\n",
    "\n",
    "sweeps = concat(api.sweep(o).runs for o in sweep_ids)\n",
    "summs = [{**r.summary, 'model_name':r.config['model_name']} for r in sweeps]\n"
   ]
  },
  {
   "cell_type": "code",
   "execution_count": 6,
   "id": "78c791a7-4c05-4c8a-93e8-54548a2d4fdd",
   "metadata": {},
   "outputs": [
    {
     "ename": "NameError",
     "evalue": "name 'summs' is not defined",
     "output_type": "error",
     "traceback": [
      "\u001b[0;31m---------------------------------------------------------------------------\u001b[0m",
      "\u001b[0;31mNameError\u001b[0m                                 Traceback (most recent call last)",
      "Input \u001b[0;32mIn [6]\u001b[0m, in \u001b[0;36m<cell line: 1>\u001b[0;34m()\u001b[0m\n\u001b[0;32m----> 1\u001b[0m df \u001b[38;5;241m=\u001b[39m pd\u001b[38;5;241m.\u001b[39mDataFrame(\u001b[43msumms\u001b[49m)\n\u001b[1;32m      2\u001b[0m df[\u001b[38;5;124m'\u001b[39m\u001b[38;5;124merror_rate\u001b[39m\u001b[38;5;124m'\u001b[39m] \u001b[38;5;241m=\u001b[39m \u001b[38;5;241m1\u001b[39m\u001b[38;5;241m-\u001b[39mdf\u001b[38;5;241m.\u001b[39maccuracy\n",
      "\u001b[0;31mNameError\u001b[0m: name 'summs' is not defined"
     ]
    }
   ],
   "source": [
    "\n",
    "df = pd.DataFrame(summs)\n",
    "df['error_rate'] = 1-df.accuracy\n"
   ]
  },
  {
   "cell_type": "code",
   "execution_count": null,
   "id": "c046d075-be6b-4c72-a33b-a32c077900e9",
   "metadata": {},
   "outputs": [],
   "source": [
    "pd.set_option('display.max_columns', None)\n",
    "df.head()"
   ]
  },
  {
   "cell_type": "code",
   "execution_count": null,
   "id": "bfbd6b93-1c42-448f-acdd-a15f0568834b",
   "metadata": {},
   "outputs": [],
   "source": [
    "cols = ['model_name', 'GPU_mem', 'error_rate', 'valid_loss', 'train_loss', 'fit_time']\n",
    "df[cols].to_csv('sweeps.csv', index=False)"
   ]
  },
  {
   "cell_type": "code",
   "execution_count": null,
   "id": "644850d8-3dbc-46d8-bdfc-b347e13ecbd7",
   "metadata": {},
   "outputs": [],
   "source": [
    "df = pd.read_csv('sweeps.csv')"
   ]
  },
  {
   "cell_type": "code",
   "execution_count": null,
   "id": "f841e5f4-0028-4f30-a5d2-daa3969c3310",
   "metadata": {},
   "outputs": [],
   "source": [
    "df['family'] = df.model_name.str.extract('^([a-z]+?(?:v2)?)(?:\\d|_|$)')\n",
    "df.loc[df.family=='swinv2', 'family'] = 'swin'\n",
    "pt_all = df.pivot_table(values=['error_rate','fit_time','GPU_mem'], index=['family', 'model_name'],\n",
    "                    aggfunc=np.min).reset_index()\n",
    "pt_all['score'] = pt_all.error_rate*(pt_all.fit_time+80)"
   ]
  },
  {
   "cell_type": "code",
   "execution_count": null,
   "id": "847a9008-216b-4ae7-a2ca-e238ae0fe63c",
   "metadata": {},
   "outputs": [],
   "source": [
    "pt = pt_all.sort_values('score').reset_index(drop=True)\n",
    "pt.head(15)"
   ]
  },
  {
   "cell_type": "code",
   "execution_count": null,
   "id": "a95c4ad0-a6e2-4f0b-a547-0a48ffbd94f0",
   "metadata": {},
   "outputs": [],
   "source": [
    "w,h = 900,700\n",
    "faves = ['efficientnet','convnext']\n",
    "pt2 = pt[pt.family.isin(faves)]\n",
    "px.scatter(pt2, width=w, height=h, x='fit_time', y='error_rate', color='family', hover_name='model_name', trendline=\"ols\",)"
   ]
  },
  {
   "cell_type": "code",
   "execution_count": null,
   "id": "926f2a4e-f899-4764-9a63-1f2b1af80352",
   "metadata": {},
   "outputs": [],
   "source": []
  }
 ],
 "metadata": {
  "kernelspec": {
   "display_name": "Python 3 (ipykernel)",
   "language": "python",
   "name": "python3"
  },
  "language_info": {
   "codemirror_mode": {
    "name": "ipython",
    "version": 3
   },
   "file_extension": ".py",
   "mimetype": "text/x-python",
   "name": "python",
   "nbconvert_exporter": "python",
   "pygments_lexer": "ipython3",
   "version": "3.9.13"
  }
 },
 "nbformat": 4,
 "nbformat_minor": 5
}
